{
 "cells": [
  {
   "cell_type": "code",
   "execution_count": 1,
   "id": "e3d4a5f1",
   "metadata": {},
   "outputs": [],
   "source": [
    "%pip install torch torchvision"
   ]
  },
  {
   "cell_type": "code",
   "execution_count": 2,
   "id": "e3d4a5f2",
   "metadata": {},
   "outputs": [],
   "source": [
    "import torch\n",
    "import torch.nn as nn\n",
    "\n",
    "class TimeSeriesTransformer(nn.Module):\n",
    "    def __init__(self, input_dim, model_dim, num_heads, num_layers, output_dim):\n",
    "        super(TimeSeriesTransformer, self).__init__()\n",
    "        self.encoder_layer = nn.TransformerEncoderLayer(d_model=model_dim, nhead=num_heads)\n",
    "        self.transformer_encoder = nn.TransformerEncoder(self.encoder_layer, num_layers=num_layers)\n",
    "        self.linear = nn.Linear(model_dim, output_dim)\n",
    "\n",
    "    def forward(self, src):\n",
    "        output = self.transformer_encoder(src)\n",
    "        output = self.linear(output)\n",
    "        return output\n",
    "\n",
    "if __name__ == \"__main__\":\n",
    "    model = TimeSeriesTransformer(input_dim=10, model_dim=512, num_heads=8, num_layers=6, output_dim=1)\n",
    "    src = torch.rand((10, 32, 512))  # (sequence_length, batch_size, model_dim)\n",
    "    output = model(src)\n",
    "    print(output.shape)\n",
    "    print(output)"
   ]
  }
 ],
 "metadata": {
  "kernelspec": {
   "display_name": "Python 3",
   "language": "python",
   "name": "python3"
  },
  "language_info": {
   "codemirror_mode": {
    "name": "ipython",
    "version": 3
   },
   "file_extension": ".py",
   "mimetype": "text/x-python",
   "name": "python",
   "nbconvert_exporter": "python",
   "pygments_lexer": "ipython3",
    "version": "3.10.2"
  }
 },
 "nbformat": 4,
 "nbformat_minor": 5
}