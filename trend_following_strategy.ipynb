{
 "cells": [
  {
   "cell_type": "code",
   "execution_count": 1,
   "id": "e3d4a5j1",
   "metadata": {},
   "outputs": [],
   "source": [
    "!pip install pandas numpy matplotlib"
   ]
  },
  {
   "cell_type": "code",
   "execution_count": 2,
   "id": "e3d4a5j2",
   "metadata": {},
   "outputs": [],
   "source": [
    "import pandas as pd\n",
    "import numpy as np\n",
    "import matplotlib.pyplot as plt\n",
    "\n",
    "class TrendFollowingStrategy:\n",
    "    def __init__(self, data):\n",
    "        self.data = data\n",
    "\n",
    "    def calculate_ema(self, window):\n",
    "        return self.data['Close'].ewm(span=window, adjust=False).mean()\n",
    "\n",
    "    def calculate_sma(self, window):\n",
    "        return self.data['Close'].rolling(window=window).mean()\n",
    "\n",
    "    def generate_signals(self, short_window, long_window):\n",
    "        self.data['ShortEMA'] = self.calculate_ema(short_window)\n",
    "        self.data['LongEMA'] = self.calculate_ema(long_window)\n",
    "        self.data['Signal'] = 0.0\n",
    "        self.data['Signal'][short_window:] = np.where(\n",
    "            self.data['ShortEMA'][short_window:] > self.data['LongEMA'][short_window:], 1.0, 0.0\n",
    "        )\n",
    "        self.data['Position'] = self.data['Signal'].diff()\n",
    "\n",
    "    def plot_signals(self):\n",
    "        plt.figure(figsize=(14, 7))\n",
    "        plt.plot(self.data['Close'], label='Close Price')\n",
    "        plt.plot(self.data['ShortEMA'], label='Short EMA', alpha=0.7)\n",
    "        plt.plot(self.data['LongEMA'], label='Long EMA', alpha=0.7)\n",
    "        plt.scatter(\n",
    "            self.data.index, self.data['Position'] == 1, label='Buy Signal', marker='^', alpha=1, color='green'\n",
    "        )\n",
    "        plt.scatter(\n",
    "            self.data.index, self.data['Position'] == -1, label='Sell Signal', marker='v', alpha=1, color='red'\n",
    "        )\n",
    "        plt.title('Trend Following Strategy Signals')\n",
    "        plt.xlabel('Date')\n",
    "        plt.ylabel('Price')\n",
    "        plt.legend()\n",
    "        plt.show()\n",
    "\n",
    "if __name__ == '__main__':\n",
    "    # Sample data (replace with your own data)\n",
    "    data = pd.DataFrame({\n",
    "        'Close': np.random.rand(100) * 100\n",
    "    }, index=pd.date_range(start='2022-01-01', periods=100))\n",
    "\n",
    "    strategy = TrendFollowingStrategy(data)\n",
    "    strategy.generate_signals(short_window=20, long_window=50)\n",
    "    strategy.plot_signals()"
   ]
  }
 ],
 "metadata": {
  "kernelspec": {
   "display_name": "Python 3",
   "language": "python",
   "name": "python3"
  },
  "language_info": {
   "codemirror_mode": {
    "name": "ipython",
    "version": 3
   },
   "file_extension": ".py",
   "mimetype": "text/x-python",
   "name": "python",
   "nbconvert_exporter": "python",
   "pygments_lexer": "ipython3",
   "version": "3.10.2"
  }
 },
 "nbformat": 4,
 "nbformat_minor": 5
}