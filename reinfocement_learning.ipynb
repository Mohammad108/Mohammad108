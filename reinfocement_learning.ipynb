{
 "cells": [
  {
   "cell_type": "code",
   "execution_count": 1,
   "id": "e3d4a5e1",
   "metadata": {},
   "outputs": [],
   "source": [
    "%pip install numpy==1.24.0 stable-baselines3==1.5.0\n",
    "%pip install 'shimmy>=2.0'"
   ]
  },
  {
   "cell_type": "code",
   "execution_count": 2,
   "id": "e3d4a5e2",
   "metadata": {},
   "outputs": [],
   "source": [
    "import gym\n",
    "from stable_baselines3 import PPO, SAC\n",
    "\n",
    "class ReinforcementLearningAgent:\n",
    "    def __init__(self, env_id: str):\n",
    "        self.env = gym.make(env_id)\n",
    "        self.ppo_model = PPO('MlpPolicy', self.env, verbose=1)\n",
    "        self.sac_model = SAC('MlpPolicy', self.env, verbose=1)\n",
    "\n",
    "    def train_ppo(self, total_timesteps: int):\n",
    "        self.ppo_model.learn(total_timesteps=total_timesteps)\n",
    "\n",
    "    def train_sac(self, total_timesteps: int):\n",
    "        self.sac_model.learn(total_timesteps=total_timesteps)\n",
    "\n",
    "    def predict_ppo(self, observation):\n",
    "        return self.ppo_model.predict(observation)\n",
    "\n",
    "    def predict_sac(self, observation):\n",
    "        return self.sac_model.predict(observation)\n",
    "\n",
    "if __name__ == \"__main__\":\n",
    "    agent = ReinforcementLearningAgent('Pendulum-v1')\n",
    "    agent.train_ppo(total_timesteps=10000)\n",
    "    agent.train_sac(total_timesteps=10000)\n",
    "    observation = agent.env.reset()\n",
    "    print('PPO Prediction:', agent.predict_ppo(observation))\n",
    "    print('SAC Prediction:', agent.predict_sac(observation))"
   ]
  }
 ],
 "metadata": {
  "kernelspec": {
   "display_name": "Python 3",
   "language": "python",
   "name": "python3"
  },
  "language_info": {
   "codemirror_mode": {
    "name": "ipython",
    "version": 3
   },
   "file_extension": ".py",
   "mimetype": "text/x-python",
   "name": "python",
   "nbconvert_exporter": "python",
   "pygments_lexer": "ipython3",
   "version": "3.10.2"
  }
 },
 "nbformat": 4,
 "nbformat_minor": 5
}