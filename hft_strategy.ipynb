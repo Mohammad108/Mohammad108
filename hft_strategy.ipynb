{
 "cells": [
  {
   "cell_type": "code",
   "execution_count": 1,
   "id": "e3d4a5i1",
   "metadata": {},
   "outputs": [],
   "source": [
    "%pip install ccxt"
   ]
  },
  {
   "cell_type": "code",
   "execution_count": 2,
   "id": "e3d4a5i2",
   "metadata": {},
   "outputs": [],
   "source": [
    "import ccxt\n",
    "import time\n",
    "import numpy as np\n",
    "\n",
    "class HFTStrategy:\n",
    "    def __init__(self, exchange_id, api_key, secret):\n",
    "        self.exchange = getattr(ccxt, exchange_id)({\n",
    "            'apiKey': api_key,\n",
    "            'secret': secret,\n",
    "            'enableRateLimit': True,\n",
    "        })\n",
    "\n",
    "    def fetch_order_book(self, symbol):\n",
    "        return self.exchange.fetch_order_book(symbol)\n",
    "\n",
    "    def place_order(self, symbol, order_type, side, amount, price=None):\n",
    "        if order_type == 'limit':\n",
    "            return self.exchange.create_order(symbol, order_type, side, amount, price)\n",
    "        elif order_type == 'market':\n",
    "            return self.exchange.create_order(symbol, order_type, side, amount)\n",
    "\n",
    "    def run(self, symbol, amount):\n",
    "        while True:\n",
    "            order_book = self.fetch_order_book(symbol)\n",
    "            bid = order_book['bids'][0][0] if len(order_book['bids']) > 0 else None\n",
    "            ask = order_book['asks'][0][0] if len(order_book['asks']) > 0 else None\n",
    "            if bid and ask:\n",
    "                spread = ask - bid\n",
    "                if spread > 0:\n",
    "                    self.place_order(symbol, 'limit', 'buy', amount, bid)\n",
    "                    self.place_order(symbol, 'limit', 'sell', amount, ask)\n",
    "            time.sleep(0.1)\n",
    "\n",
    "if __name__ == \"__main__\":\n",
    "    api_key = 'your_api_key'\n",
    "    secret = 'your_secret'\n",
    "    symbol = 'BTC/USDT'\n",
    "    amount = 0.001\n",
    "    hft_strategy = HFTStrategy('binance', api_key, secret)\n",
    "    hft_strategy.run(symbol, amount)"
   ]
  }
 ],
 "metadata": {
  "kernelspec": {
   "display_name": "Python 3",
   "language": "python",
   "name": "python3"
  },
  "language_info": {
   "codemirror_mode": {
    "name": "ipython",
    "version": 3
   },
   "file_extension": ".py",
   "mimetype": "text/x-python",
   "name": "python",
   "nbconvert_exporter": "python",
   "pygments_lexer": "ipython3",
   "version": "3.10.2"
  }
 },
 "nbformat": 4,
 "nbformat_minor": 5
}