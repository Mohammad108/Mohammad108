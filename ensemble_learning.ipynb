{
 "cells": [
  {
   "cell_type": "code",
   "execution_count": 1,
   "id": "e3d4a5h1",
   "metadata": {},
   "outputs": [],
   "source": [
    "%pip install torch torchvision scikit-learn"
   ]
  },
  {
   "cell_type": "code",
   "execution_count": 2,
   "id": "e3d4a5h2",
   "metadata": {},
   "outputs": [],
   "source": [
    "import torch\n",
    "import torch.nn as nn\n",
    "import numpy as np\n",
    "from sklearn.ensemble import VotingRegressor\n",
    "from sklearn.linear_model import LinearRegression\n",
    "from sklearn.tree import DecisionTreeRegressor\n",
    "from sklearn.svm import SVR\n",
    "\n",
    "class EnsembleModel:\n",
    "    def __init__(self):\n",
    "        self.model = VotingRegressor([\n",
    "            ('lr', LinearRegression()),\n",
    "            ('dt', DecisionTreeRegressor()),\n",
    "            ('svr', SVR())\n",
    "        ])\n",
    "\n",
    "    def fit(self, X, y):\n",
    "        self.model.fit(X, y)\n",
    "\n",
    "    def predict(self, X):\n",
    "        return self.model.predict(X)\n",
    "\n",
    "if __name__ == \"__main__\":\n",
    "    X = np.random.rand(100, 10)\n",
    "    y = np.random.rand(100)\n",
    "\n",
    "    ensemble_model = EnsembleModel()\n",
    "    ensemble_model.fit(X, y)\n",
    "    predictions = ensemble_model.predict(X)\n",
    "    print('Predictions:', predictions)"
   ]
  }
 ],
 "metadata": {
  "kernelspec": {
   "display_name": "Python 3",
   "language": "python",
   "name": "python3"
  },
  "language_info": {
   "codemirror_mode": {
    "name": "ipython",
    "version": 3
   },
   "file_extension": ".py",
   "mimetype": "text/x-python",
   "name": "python",
   "nbconvert_exporter": "python",
   "pygments_lexer": "ipython3",
   "version": "3.10.2"
  }
 },
 "nbformat": 4,
 "nbformat_minor": 5
}